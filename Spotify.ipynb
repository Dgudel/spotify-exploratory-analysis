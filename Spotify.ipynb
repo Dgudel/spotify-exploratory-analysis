{
 "cells": [
  {
   "cell_type": "markdown",
   "id": "b044ca6d",
   "metadata": {},
   "source": [
    "# Analysis of the Top 50 Spotify tracks"
   ]
  },
  {
   "cell_type": "markdown",
   "id": "ad0874b2",
   "metadata": {},
   "source": [
    "The objectives of this analysis of the Top 50 Spotify tracks are to develop skills related to the use of Pandas library: to practive working with data from Kaggle, practice performing exploratory data analysis, and \n",
    "practice reading data, performing queries and filtering data using Pandas."
   ]
  },
  {
   "cell_type": "markdown",
   "id": "ba54f78f",
   "metadata": {},
   "source": [
    "## Preparing for analysis: importing and cleaning the data"
   ]
  },
  {
   "cell_type": "markdown",
   "id": "29f77ede",
   "metadata": {},
   "source": [
    "### Importing Python libraries and the Spotify Top 50 data into a Pandas dataframe"
   ]
  },
  {
   "cell_type": "markdown",
   "id": "5770043e",
   "metadata": {},
   "source": [
    "The first step of the analysis was to download Spotify Top 50 data from Kaggle and import it into the Pandas dataframe."
   ]
  },
  {
   "cell_type": "code",
   "execution_count": 1,
   "id": "22b1d473",
   "metadata": {},
   "outputs": [],
   "source": [
    "import numpy as np\n",
    "import pandas as pd\n"
   ]
  },
  {
   "cell_type": "code",
   "execution_count": 2,
   "id": "3cb5798e",
   "metadata": {},
   "outputs": [],
   "source": [
    "spotify = pd.read_csv(\"/Users/user/PycharmProjects/Spotify/data/spotifytoptracks.csv\", index_col=0)"
   ]
  },
  {
   "cell_type": "markdown",
   "id": "97b77636",
   "metadata": {},
   "source": [
    "The basic variables of the dataframe are characterised below."
   ]
  },
  {
   "cell_type": "code",
   "execution_count": 3,
   "id": "18781c0d",
   "metadata": {},
   "outputs": [
    {
     "name": "stdout",
     "output_type": "stream",
     "text": [
      "<class 'pandas.core.frame.DataFrame'>\n",
      "Int64Index: 50 entries, 0 to 49\n",
      "Data columns (total 16 columns):\n",
      " #   Column            Non-Null Count  Dtype  \n",
      "---  ------            --------------  -----  \n",
      " 0   artist            50 non-null     object \n",
      " 1   album             50 non-null     object \n",
      " 2   track_name        50 non-null     object \n",
      " 3   track_id          50 non-null     object \n",
      " 4   energy            50 non-null     float64\n",
      " 5   danceability      50 non-null     float64\n",
      " 6   key               50 non-null     int64  \n",
      " 7   loudness          50 non-null     float64\n",
      " 8   acousticness      50 non-null     float64\n",
      " 9   speechiness       50 non-null     float64\n",
      " 10  instrumentalness  50 non-null     float64\n",
      " 11  liveness          50 non-null     float64\n",
      " 12  valence           50 non-null     float64\n",
      " 13  tempo             50 non-null     float64\n",
      " 14  duration_ms       50 non-null     int64  \n",
      " 15  genre             50 non-null     object \n",
      "dtypes: float64(9), int64(2), object(5)\n",
      "memory usage: 6.6+ KB\n"
     ]
    }
   ],
   "source": [
    "spotify.info()\n"
   ]
  },
  {
   "cell_type": "markdown",
   "id": "5dbf7cb6",
   "metadata": {},
   "source": [
    "### Checking for missing values"
   ]
  },
  {
   "cell_type": "markdown",
   "id": "457fc6b3",
   "metadata": {},
   "source": [
    "The function below was designed to check if there are missing values in each of the cell of the dataframe."
   ]
  },
  {
   "cell_type": "code",
   "execution_count": 4,
   "id": "e0b893d6",
   "metadata": {},
   "outputs": [],
   "source": [
    "def check_missing_values():\n",
    "    spotify.isnull()\n",
    "    for i in range(len(spotify.iloc[0,:])):\n",
    "        for j in range(len(spotify.iloc[:,0])):\n",
    "            if spotify.iloc[j,i] is True:\n",
    "                print(f'The missing value is in the index value {spotify.iloc[j,0]} of the column {spotify.columns[i]}.')\n",
    "            else:\n",
    "                pass\n",
    "    print('There are no missing values in the dataframe.')\n",
    "    \n"
   ]
  },
  {
   "cell_type": "code",
   "execution_count": 5,
   "id": "9ca02c98",
   "metadata": {},
   "outputs": [
    {
     "data": {
      "text/plain": [
       "(array([], dtype=int64), array([], dtype=int64))"
      ]
     },
     "execution_count": 5,
     "metadata": {},
     "output_type": "execute_result"
    }
   ],
   "source": [
    "np.where(spotify.isnull())\n",
    "#print('There are no missing values in the dataframe.')"
   ]
  },
  {
   "cell_type": "markdown",
   "id": "cf267132",
   "metadata": {},
   "source": [
    "It appeared that there were no missing values."
   ]
  },
  {
   "cell_type": "code",
   "execution_count": 6,
   "id": "a59667c4",
   "metadata": {},
   "outputs": [
    {
     "name": "stdout",
     "output_type": "stream",
     "text": [
      "There are no missing values in the dataframe.\n"
     ]
    }
   ],
   "source": [
    "check_missing_values()\n"
   ]
  },
  {
   "cell_type": "markdown",
   "id": "9ff3c63e",
   "metadata": {},
   "source": [
    "### Checking for duplicates"
   ]
  },
  {
   "cell_type": "markdown",
   "id": "c7fb8759",
   "metadata": {},
   "source": [
    "We applied Pandas function 'duplicated' to check for duplicates and it appear that there are no duplicates in the dataframe (see below)."
   ]
  },
  {
   "cell_type": "code",
   "execution_count": 9,
   "id": "e6b4a598",
   "metadata": {},
   "outputs": [
    {
     "name": "stdout",
     "output_type": "stream",
     "text": [
      "artist              17\n",
      "album                9\n",
      "track_name           0\n",
      "track_id             0\n",
      "energy               2\n",
      "danceability         4\n",
      "key                 48\n",
      "loudness             0\n",
      "acousticness         2\n",
      "speechiness          4\n",
      "instrumentalness    32\n",
      "liveness             5\n",
      "valence              6\n",
      "tempo                0\n",
      "duration_ms          0\n",
      "genre               40\n",
      "dtype: int64\n"
     ]
    }
   ],
   "source": [
    "duplicates_sum = spotify.apply(lambda x: x.duplicated(keep = False).sum())\n",
    "print(duplicates_sum)"
   ]
  },
  {
   "cell_type": "code",
   "execution_count": 11,
   "id": "68a1c69a",
   "metadata": {},
   "outputs": [
    {
     "data": {
      "text/plain": [
       "artist              17\n",
       "album                9\n",
       "track_name           0\n",
       "track_id             0\n",
       "energy               2\n",
       "danceability         4\n",
       "key                 48\n",
       "loudness             0\n",
       "acousticness         2\n",
       "speechiness          4\n",
       "instrumentalness    32\n",
       "liveness             5\n",
       "valence              6\n",
       "tempo                0\n",
       "duration_ms          0\n",
       "genre               40\n",
       "dtype: int64"
      ]
     },
     "execution_count": 11,
     "metadata": {},
     "output_type": "execute_result"
    }
   ],
   "source": [
    "spotify.apply(lambda x: x.duplicated(keep = False).sum())\n"
   ]
  },
  {
   "cell_type": "markdown",
   "id": "47e932db",
   "metadata": {},
   "source": [
    "### Checking for outliers"
   ]
  },
  {
   "cell_type": "markdown",
   "id": "fd6d0189",
   "metadata": {},
   "source": [
    "The next step of the analysis was to check for outliers. We designed a function for finding outliers following the advice provided by this article (https://hersanyagci.medium.com/detecting-and-handling-outliers-with-pandas-7adbfcd5cad8). We used Tukey’s rule to detect outliers (also known as the IQR rule). We calculated the Interquartile Range of the data (IQR = Q3 — Q1) and determined our outlier boundaries with IQR. We got the lower boundary with the calculation Q1–1.5 * IQR and the upper boundary with the calculation Q3 + 1.5 * IQR. Then we looped each cell in the numerical variables to find out if it is an outlier or not."
   ]
  },
  {
   "cell_type": "code",
   "execution_count": 14,
   "id": "3669392a",
   "metadata": {},
   "outputs": [],
   "source": [
    "def find_outliers(x,coef):\n",
    "    Q1 = spotify.iloc[:,x].quantile(0.25)\n",
    "    Q3 = spotify.iloc[:,x].quantile(0.75)\n",
    "    IQR = Q3 - Q1\n",
    "    lower_lim = Q1 - coef*IQR\n",
    "    upper_lim = Q3 + coef*IQR\n",
    "    for data in range(len(spotify.iloc[:,0])):\n",
    "        if spotify.iloc[data,x] < lower_lim:\n",
    "            print(f'Outlier for the index value {data} of the feature {spotify.columns[x]}: {round(spotify.iloc[data,x],3)}.')\n",
    "            count_lower.append(data)\n",
    "        elif spotify.iloc[data,x] > upper_lim:\n",
    "            print(f'Outlier for the index value {data} of the feature {spotify.columns[x]}: {round(spotify.iloc[data,x],3)}.')\n",
    "            count_upper.append(data)\n",
    "        "
   ]
  },
  {
   "cell_type": "markdown",
   "id": "4b355580",
   "metadata": {},
   "source": [
    "The initial analysis revealed that 34 values of the feature variables could be characterized as outliers (see below). "
   ]
  },
  {
   "cell_type": "code",
   "execution_count": 15,
   "id": "6f1abeb2",
   "metadata": {},
   "outputs": [
    {
     "name": "stdout",
     "output_type": "stream",
     "text": [
      "Outliers in the dataframe:\n",
      "\n",
      "Outlier for the index value 16 of the feature danceability: 0.459.\n",
      "Outlier for the index value 44 of the feature danceability: 0.351.\n",
      "Outlier for the index value 47 of the feature danceability: 0.464.\n",
      "Outlier for the index value 24 of the feature loudness: -14.454.\n",
      "Outlier for the index value 1 of the feature acousticness: 0.688.\n",
      "Outlier for the index value 7 of the feature acousticness: 0.731.\n",
      "Outlier for the index value 9 of the feature acousticness: 0.751.\n",
      "Outlier for the index value 18 of the feature acousticness: 0.837.\n",
      "Outlier for the index value 24 of the feature acousticness: 0.902.\n",
      "Outlier for the index value 44 of the feature acousticness: 0.934.\n",
      "Outlier for the index value 47 of the feature acousticness: 0.866.\n",
      "Outlier for the index value 19 of the feature speechiness: 0.487.\n",
      "Outlier for the index value 26 of the feature speechiness: 0.375.\n",
      "Outlier for the index value 27 of the feature speechiness: 0.375.\n",
      "Outlier for the index value 29 of the feature speechiness: 0.342.\n",
      "Outlier for the index value 38 of the feature speechiness: 0.389.\n",
      "Outlier for the index value 43 of the feature speechiness: 0.379.\n",
      "Outlier for the index value 0 of the feature instrumentalness: 0.0.\n",
      "Outlier for the index value 1 of the feature instrumentalness: 0.0.\n",
      "Outlier for the index value 3 of the feature instrumentalness: 0.004.\n",
      "Outlier for the index value 10 of the feature instrumentalness: 0.0.\n",
      "Outlier for the index value 12 of the feature instrumentalness: 0.002.\n",
      "Outlier for the index value 24 of the feature instrumentalness: 0.657.\n",
      "Outlier for the index value 26 of the feature instrumentalness: 0.13.\n",
      "Outlier for the index value 33 of the feature instrumentalness: 0.0.\n",
      "Outlier for the index value 34 of the feature instrumentalness: 0.002.\n",
      "Outlier for the index value 39 of the feature instrumentalness: 0.0.\n",
      "Outlier for the index value 41 of the feature instrumentalness: 0.001.\n",
      "Outlier for the index value 48 of the feature instrumentalness: 0.001.\n",
      "Outlier for the index value 2 of the feature liveness: 0.79.\n",
      "Outlier for the index value 7 of the feature liveness: 0.696.\n",
      "Outlier for the index value 41 of the feature liveness: 0.792.\n",
      "Outlier for the index value 43 of the feature duration_ms: 295177.\n",
      "Outlier for the index value 49 of the feature duration_ms: 312820.\n",
      "\n",
      "In total, there are 34 outliers.\n"
     ]
    }
   ],
   "source": [
    "print('Outliers in the dataframe:\\n')\n",
    "count_lower = []    \n",
    "count_upper = []\n",
    "for i in range(4,15):\n",
    "    find_outliers(i, 1.5)\n",
    "print(f'\\nIn total, there are {len(count_lower) + len(count_upper)} outliers.')\n",
    "    "
   ]
  },
  {
   "cell_type": "markdown",
   "id": "41f7ecb6",
   "metadata": {},
   "source": [
    "Such a high number of outliers seemed too much for the dataframe of 50 observations, thus, we increated the coefficient value from 1.5 to 2.5. After running the function, the number of outliers was reduced to 16. However, after deeper examination of the data, it became clear that the values of instrumentalness are widely scattered and each non-zero value of this feature is interpreted as an outlier. Thus, it makes no sense to treat any value of this feature as an outlier."
   ]
  },
  {
   "cell_type": "code",
   "execution_count": 16,
   "id": "1dfbab55",
   "metadata": {},
   "outputs": [
    {
     "name": "stdout",
     "output_type": "stream",
     "text": [
      "Outliers in the dataframe:\n",
      "\n",
      "Outlier for the index value 44 of the feature danceability: 0.351.\n",
      "Outlier for the index value 44 of the feature acousticness: 0.934.\n",
      "Outlier for the index value 19 of the feature speechiness: 0.487.\n",
      "Outlier for the index value 0 of the feature instrumentalness: 0.0.\n",
      "Outlier for the index value 1 of the feature instrumentalness: 0.0.\n",
      "Outlier for the index value 3 of the feature instrumentalness: 0.004.\n",
      "Outlier for the index value 10 of the feature instrumentalness: 0.0.\n",
      "Outlier for the index value 12 of the feature instrumentalness: 0.002.\n",
      "Outlier for the index value 24 of the feature instrumentalness: 0.657.\n",
      "Outlier for the index value 26 of the feature instrumentalness: 0.13.\n",
      "Outlier for the index value 33 of the feature instrumentalness: 0.0.\n",
      "Outlier for the index value 34 of the feature instrumentalness: 0.002.\n",
      "Outlier for the index value 41 of the feature instrumentalness: 0.001.\n",
      "Outlier for the index value 48 of the feature instrumentalness: 0.001.\n",
      "Outlier for the index value 2 of the feature liveness: 0.79.\n",
      "Outlier for the index value 41 of the feature liveness: 0.792.\n",
      "\n",
      "In total, there are 16 outliers.\n"
     ]
    }
   ],
   "source": [
    "print('Outliers in the dataframe:\\n')\n",
    "count_lower = []    \n",
    "count_upper = []\n",
    "for i in range(4,15):\n",
    "    find_outliers(i, 2.5)\n",
    "print(f'\\nIn total, there are {len(count_lower) + len(count_upper)} outliers.')"
   ]
  },
  {
   "cell_type": "markdown",
   "id": "c7e21e61",
   "metadata": {},
   "source": [
    "### Droping rows with outliers from the dataframe\n"
   ]
  },
  {
   "cell_type": "markdown",
   "id": "0e534abf",
   "metadata": {},
   "source": [
    "The article https://hersanyagci.medium.com/detecting-and-handling-outliers-with-pandas-7adbfcd5cad8 reccomends three ways to handle outliers in the data: dropping the outliers, winsorize method, and log transformation. We decided to chose the method of dropping outliers. \n",
    "\n",
    "We designed a function which drops outliers from the dataframe based on the Tuckey rule and the argumentation that there is no sense to treat values of instrumentalness as outliers (values of the feature 'instrumentalness' were excluded from the condition for dropping outliers). "
   ]
  },
  {
   "cell_type": "code",
   "execution_count": 17,
   "id": "62693704",
   "metadata": {},
   "outputs": [],
   "source": [
    "def drop_outliers(x, df, coef):\n",
    "    Q1 = spotify.iloc[:,x].quantile(0.25)\n",
    "    Q3 = spotify.iloc[:,x].quantile(0.75)\n",
    "    IQR = Q3 - Q1\n",
    "    lower_lim = Q1 - coef*IQR\n",
    "    upper_lim = Q3 + coef*IQR\n",
    "    df = df.drop(df[(df.iloc[:,x] < lower_lim)|(df.iloc[:,x] > upper_lim)&(df.iloc[:,x]!=df.loc[:,\"instrumentalness\"])].index)\n",
    "    return df\n"
   ]
  },
  {
   "cell_type": "markdown",
   "id": "c11569fc",
   "metadata": {},
   "source": [
    "After running the function with the coefficient of 2.5, the new dataframe of 46 observations without outliers was created."
   ]
  },
  {
   "cell_type": "code",
   "execution_count": 18,
   "id": "cd41bec0",
   "metadata": {},
   "outputs": [
    {
     "name": "stdout",
     "output_type": "stream",
     "text": [
      "<class 'pandas.core.frame.DataFrame'>\n",
      "Int64Index: 46 entries, 0 to 49\n",
      "Data columns (total 16 columns):\n",
      " #   Column            Non-Null Count  Dtype  \n",
      "---  ------            --------------  -----  \n",
      " 0   artist            46 non-null     object \n",
      " 1   album             46 non-null     object \n",
      " 2   track_name        46 non-null     object \n",
      " 3   track_id          46 non-null     object \n",
      " 4   energy            46 non-null     float64\n",
      " 5   danceability      46 non-null     float64\n",
      " 6   key               46 non-null     int64  \n",
      " 7   loudness          46 non-null     float64\n",
      " 8   acousticness      46 non-null     float64\n",
      " 9   speechiness       46 non-null     float64\n",
      " 10  instrumentalness  46 non-null     float64\n",
      " 11  liveness          46 non-null     float64\n",
      " 12  valence           46 non-null     float64\n",
      " 13  tempo             46 non-null     float64\n",
      " 14  duration_ms       46 non-null     int64  \n",
      " 15  genre             46 non-null     object \n",
      "dtypes: float64(9), int64(2), object(5)\n",
      "memory usage: 6.1+ KB\n"
     ]
    }
   ],
   "source": [
    "spotify_clean = pd.DataFrame(spotify)\n",
    "for i in range(4,15):\n",
    "    spotify_clean = drop_outliers(i, spotify_clean, 2.5)\n",
    "spotify_clean.info()\n"
   ]
  },
  {
   "cell_type": "markdown",
   "id": "fbe34eea",
   "metadata": {},
   "source": [
    "## General information about the dataframe"
   ]
  },
  {
   "cell_type": "markdown",
   "id": "553c8084",
   "metadata": {},
   "source": [
    "### Number of observations"
   ]
  },
  {
   "cell_type": "code",
   "execution_count": 19,
   "id": "a9d32de5",
   "metadata": {},
   "outputs": [
    {
     "name": "stdout",
     "output_type": "stream",
     "text": [
      "The number of observations in the dataframe is 50.\n",
      "The number of observations after cleaning of the data in the dataframe is 46.\n"
     ]
    }
   ],
   "source": [
    "print(f'The number of observations in the dataframe is {spotify.shape[0]}.')\n",
    "print(f'The number of observations after cleaning of the data in the dataframe is {spotify_clean.shape[0]}.')\n"
   ]
  },
  {
   "cell_type": "markdown",
   "id": "68e770bf",
   "metadata": {},
   "source": [
    "### Number of features"
   ]
  },
  {
   "cell_type": "code",
   "execution_count": 20,
   "id": "a4a119f0",
   "metadata": {},
   "outputs": [
    {
     "name": "stdout",
     "output_type": "stream",
     "text": [
      "The number of features in the dataframe is 16.\n"
     ]
    }
   ],
   "source": [
    "print(f'The number of features in the dataframe is {spotify.shape[1]}.')\n"
   ]
  },
  {
   "cell_type": "markdown",
   "id": "2b280178",
   "metadata": {},
   "source": [
    "### Number of categorical features"
   ]
  },
  {
   "cell_type": "code",
   "execution_count": 21,
   "id": "c0a4a0ff",
   "metadata": {},
   "outputs": [],
   "source": [
    "def count_cat_features():\n",
    "    count = 0\n",
    "    for column in spotify.columns:\n",
    "        if spotify[column].dtypes == \"object\":\n",
    "            count += 1\n",
    "    return count\n"
   ]
  },
  {
   "cell_type": "code",
   "execution_count": 22,
   "id": "5e9a8b6e",
   "metadata": {},
   "outputs": [
    {
     "name": "stdout",
     "output_type": "stream",
     "text": [
      "The number of categorical features in the dataframe is 5.\n"
     ]
    }
   ],
   "source": [
    "print(f'The number of categorical features in the dataframe is {count_cat_features()}.')\n"
   ]
  },
  {
   "cell_type": "markdown",
   "id": "5044dd37",
   "metadata": {},
   "source": [
    "### Number of numerical features"
   ]
  },
  {
   "cell_type": "code",
   "execution_count": 23,
   "id": "59f6e285",
   "metadata": {},
   "outputs": [],
   "source": [
    "def count_num_features():\n",
    "    count = 0\n",
    "    for column in spotify.columns:\n",
    "        if spotify[column].dtypes != \"object\":\n",
    "            count += 1\n",
    "    return count\n"
   ]
  },
  {
   "cell_type": "code",
   "execution_count": 24,
   "id": "8ed0b33e",
   "metadata": {},
   "outputs": [
    {
     "name": "stdout",
     "output_type": "stream",
     "text": [
      "The number of numerical features in the dataframe is 11.\n"
     ]
    }
   ],
   "source": [
    "print(f'The number of numerical features in the dataframe is {count_num_features()}.')\n"
   ]
  },
  {
   "cell_type": "markdown",
   "id": "b3b49229",
   "metadata": {},
   "source": [
    "## Selecting values of variables based on conditions"
   ]
  },
  {
   "cell_type": "markdown",
   "id": "4947499a",
   "metadata": {},
   "source": [
    "The following analysis helped to get responses to the questions about characteristics of such categorical valiables as track_name, artist, album, genre based on various conditions (values of other variables). it was decided to conduct the analysis of the initial dataframe rather than the dataframe after handling the outliers. The results of the analysis are presented below:"
   ]
  },
  {
   "cell_type": "markdown",
   "id": "dddf01f0",
   "metadata": {},
   "source": [
    "### Are there any artists that have more than 1 popular track? If yes, which and how many?"
   ]
  },
  {
   "cell_type": "code",
   "execution_count": 25,
   "id": "b36f027d",
   "metadata": {},
   "outputs": [],
   "source": [
    "def count_artists_tracks():\n",
    "    artists = pd.Series(spotify.loc[:,'artist'].value_counts())\n",
    "    print(f'These artists have more than one popular track:\\n')\n",
    "    count = 0\n",
    "    for index, value in artists.items():\n",
    "        if artists[index] > 1:\n",
    "            print(index, value)\n",
    "            count += 1\n",
    "    print(f'\\nThe number of artists having more than 1 popular track is {count}.')\n",
    "    "
   ]
  },
  {
   "cell_type": "code",
   "execution_count": 26,
   "id": "2c5dd717",
   "metadata": {},
   "outputs": [
    {
     "name": "stdout",
     "output_type": "stream",
     "text": [
      "These artists have more than one popular track:\n",
      "\n",
      "Billie Eilish 3\n",
      "Dua Lipa 3\n",
      "Travis Scott 3\n",
      "Justin Bieber 2\n",
      "Harry Styles 2\n",
      "Lewis Capaldi 2\n",
      "Post Malone 2\n",
      "\n",
      "The number of artists having more than 1 popular track is 7.\n"
     ]
    }
   ],
   "source": [
    "count_artists_tracks()\n"
   ]
  },
  {
   "cell_type": "markdown",
   "id": "b8ac8b66",
   "metadata": {},
   "source": [
    "### Who was the most popular artist?"
   ]
  },
  {
   "cell_type": "code",
   "execution_count": 27,
   "id": "6a1b4a32",
   "metadata": {},
   "outputs": [],
   "source": [
    "def find_most_popular_artist():\n",
    "    artists = pd.DataFrame(spotify.loc[:,'artist'].value_counts())\n",
    "    popular_artists = artists[artists.loc[:,\"artist\"] == spotify.loc[:,'artist'].value_counts().max()]\n",
    "    print(f'The most popular artists have the highest number of tracks in the top 50. Such artists are:\\n')\n",
    "    [print(x) for x in popular_artists.index]\n",
    "    "
   ]
  },
  {
   "cell_type": "code",
   "execution_count": 28,
   "id": "a1aaf410",
   "metadata": {},
   "outputs": [
    {
     "name": "stdout",
     "output_type": "stream",
     "text": [
      "The most popular artists have the highest number of tracks in the top 50. Such artists are:\n",
      "\n",
      "Billie Eilish\n",
      "Dua Lipa\n",
      "Travis Scott\n"
     ]
    }
   ],
   "source": [
    "find_most_popular_artist()\n"
   ]
  },
  {
   "cell_type": "markdown",
   "id": "54b091ca",
   "metadata": {},
   "source": [
    "### How many artists in total have their songs in the top 50?"
   ]
  },
  {
   "cell_type": "code",
   "execution_count": 29,
   "id": "81c9b4cf",
   "metadata": {},
   "outputs": [
    {
     "name": "stdout",
     "output_type": "stream",
     "text": [
      "In total, 40 artists have their songs in the top 50.\n"
     ]
    }
   ],
   "source": [
    "number_of_artists = spotify.loc[:,'artist'].value_counts().count()\n",
    "print(f'In total, {number_of_artists} artists have their songs in the top 50.')\n"
   ]
  },
  {
   "cell_type": "markdown",
   "id": "183d8d14",
   "metadata": {},
   "source": [
    "### Are there any albums that have more than 1 popular track? If yes, which and how many?"
   ]
  },
  {
   "cell_type": "code",
   "execution_count": 30,
   "id": "a1e5d81e",
   "metadata": {},
   "outputs": [],
   "source": [
    "def count_albums_tracks():\n",
    "    albums = pd.Series(spotify.loc[:,'album'].value_counts())\n",
    "    print(f'These albums have more than one popular track:\\n')\n",
    "    count = 0\n",
    "    for index, value in albums.items():\n",
    "        if albums[index] > 1:\n",
    "            print(index, value)\n",
    "            count+=1\n",
    "    print(f'The number of albums having more than 1 popular track is {count}.')\n",
    "    "
   ]
  },
  {
   "cell_type": "code",
   "execution_count": 31,
   "id": "8fe39b68",
   "metadata": {},
   "outputs": [
    {
     "name": "stdout",
     "output_type": "stream",
     "text": [
      "These albums have more than one popular track:\n",
      "\n",
      "Future Nostalgia 3\n",
      "Hollywood's Bleeding 2\n",
      "Fine Line 2\n",
      "Changes 2\n",
      "The number of albums having more than 1 popular track is 4.\n"
     ]
    }
   ],
   "source": [
    "count_albums_tracks()\n"
   ]
  },
  {
   "cell_type": "markdown",
   "id": "0bd8020a",
   "metadata": {},
   "source": [
    "### How many albums in total have their songs in the top 50?"
   ]
  },
  {
   "cell_type": "code",
   "execution_count": 35,
   "id": "544818cd",
   "metadata": {},
   "outputs": [
    {
     "name": "stdout",
     "output_type": "stream",
     "text": [
      "In total, 45 albums have their songs in the top 50.\n"
     ]
    }
   ],
   "source": [
    "number_of_albums = spotify.loc[:,'album'].value_counts().count()\n",
    "print(f'In total, {number_of_albums} albums have their songs in the top 50.')\n"
   ]
  },
  {
   "cell_type": "markdown",
   "id": "78400f6e",
   "metadata": {},
   "source": [
    "### Which tracks have a danceability score above 0.7?"
   ]
  },
  {
   "cell_type": "code",
   "execution_count": 36,
   "id": "8c6c2c6f",
   "metadata": {},
   "outputs": [],
   "source": [
    "def find_track_danceability_above():\n",
    "    tracks_danceability = spotify.loc[:,\"track_name\"][spotify.loc[:,\"danceability\"]>0.7]\n",
    "    print(f'These {tracks_danceability.count()} tracks have a danceability score above 0.7:\\n')\n",
    "    [print(x) for x in tracks_danceability.values]\n"
   ]
  },
  {
   "cell_type": "code",
   "execution_count": 37,
   "id": "6c8b5538",
   "metadata": {},
   "outputs": [
    {
     "name": "stdout",
     "output_type": "stream",
     "text": [
      "These 32 tracks have a danceability score above 0.7:\n",
      "\n",
      "Dance Monkey\n",
      "The Box\n",
      "Roses - Imanbek Remix\n",
      "Don't Start Now\n",
      "ROCKSTAR (feat. Roddy Ricch)\n",
      "death bed (coffee for your head)\n",
      "Falling\n",
      "Tusa\n",
      "Blueberry Faygo\n",
      "Intentions (feat. Quavo)\n",
      "Toosie Slide\n",
      "Say So\n",
      "Memories\n",
      "Life Is Good (feat. Drake)\n",
      "Savage Love (Laxed - Siren Beat)\n",
      "Breaking Me\n",
      "everything i wanted\n",
      "Señorita\n",
      "bad guy\n",
      "WAP (feat. Megan Thee Stallion)\n",
      "Sunday Best\n",
      "Godzilla (feat. Juice WRLD)\n",
      "Break My Heart\n",
      "Dynamite\n",
      "Supalonely (feat. Gus Dapperton)\n",
      "Sunflower - Spider-Man: Into the Spider-Verse\n",
      "Hawái\n",
      "Ride It\n",
      "goosebumps\n",
      "RITMO (Bad Boys For Life)\n",
      "THE SCOTTS\n",
      "SICKO MODE\n"
     ]
    }
   ],
   "source": [
    "find_track_danceability_above()"
   ]
  },
  {
   "cell_type": "markdown",
   "id": "673ecfcb",
   "metadata": {},
   "source": [
    "### Which tracks have a danceability score below 0.4?"
   ]
  },
  {
   "cell_type": "code",
   "execution_count": 38,
   "id": "ade4d321",
   "metadata": {},
   "outputs": [],
   "source": [
    "def find_tracks_danceability_below():\n",
    "    tracks_danceability = spotify.loc[:,\"track_name\"][spotify.loc[:,\"danceability\"]<0.4]\n",
    "    print(f'These {tracks_danceability.count()} tracks have a danceability score below 0.4:\\n')\n",
    "    [print(x) for x in tracks_danceability.values]\n"
   ]
  },
  {
   "cell_type": "code",
   "execution_count": 39,
   "id": "c06dfe64",
   "metadata": {},
   "outputs": [
    {
     "name": "stdout",
     "output_type": "stream",
     "text": [
      "These 1 tracks have a danceability score below 0.4:\n",
      "\n",
      "lovely (with Khalid)\n"
     ]
    }
   ],
   "source": [
    "find_tracks_danceability_below()\n"
   ]
  },
  {
   "cell_type": "markdown",
   "id": "ec93792f",
   "metadata": {},
   "source": [
    "### Which tracks have their loudness above -5?"
   ]
  },
  {
   "cell_type": "code",
   "execution_count": 40,
   "id": "b0294dd0",
   "metadata": {},
   "outputs": [],
   "source": [
    "def find_track_loudness_above():\n",
    "    tracks_loudness = spotify.loc[:,\"track_name\"][spotify.loc[:,\"loudness\"]> -5]\n",
    "    print(f'These {tracks_loudness.count()} tracks have their loudness score above -5:\\n')\n",
    "    [print(x) for x in tracks_loudness.values]\n"
   ]
  },
  {
   "cell_type": "code",
   "execution_count": 41,
   "id": "1d11a854",
   "metadata": {},
   "outputs": [
    {
     "name": "stdout",
     "output_type": "stream",
     "text": [
      "These 19 tracks have their loudness score above -5:\n",
      "\n",
      "Don't Start Now\n",
      "Watermelon Sugar\n",
      "Tusa\n",
      "Circles\n",
      "Before You Go\n",
      "Say So\n",
      "Adore You\n",
      "Mood (feat. iann dior)\n",
      "Break My Heart\n",
      "Dynamite\n",
      "Supalonely (feat. Gus Dapperton)\n",
      "Rain On Me (with Ariana Grande)\n",
      "Sunflower - Spider-Man: Into the Spider-Verse\n",
      "Hawái\n",
      "Ride It\n",
      "goosebumps\n",
      "Safaera\n",
      "Physical\n",
      "SICKO MODE\n"
     ]
    }
   ],
   "source": [
    "find_track_loudness_above()"
   ]
  },
  {
   "cell_type": "markdown",
   "id": "5f59af07",
   "metadata": {},
   "source": [
    "### Which tracks have their loudness below -8?"
   ]
  },
  {
   "cell_type": "code",
   "execution_count": 42,
   "id": "2bafadd5",
   "metadata": {},
   "outputs": [],
   "source": [
    "def find_track_loudness_below():\n",
    "    tracks_loudness = spotify.loc[:,\"track_name\"][spotify.loc[:,\"loudness\"]< -8]\n",
    "    print(f'These {tracks_loudness.count()} tracks have their loudness score below -8:\\n')\n",
    "    [print(x) for x in tracks_loudness.values]\n"
   ]
  },
  {
   "cell_type": "code",
   "execution_count": 43,
   "id": "035fdefa",
   "metadata": {},
   "outputs": [
    {
     "name": "stdout",
     "output_type": "stream",
     "text": [
      "These 9 tracks have their loudness score below -8:\n",
      "\n",
      "death bed (coffee for your head)\n",
      "Falling\n",
      "Toosie Slide\n",
      "Savage Love (Laxed - Siren Beat)\n",
      "everything i wanted\n",
      "bad guy\n",
      "HIGHEST IN THE ROOM\n",
      "lovely (with Khalid)\n",
      "If the World Was Ending - feat. Julia Michaels\n"
     ]
    }
   ],
   "source": [
    "find_track_loudness_below()"
   ]
  },
  {
   "cell_type": "markdown",
   "id": "ca0f5659",
   "metadata": {},
   "source": [
    "### Which track is the longest?"
   ]
  },
  {
   "cell_type": "code",
   "execution_count": 44,
   "id": "4fb44528",
   "metadata": {},
   "outputs": [
    {
     "name": "stdout",
     "output_type": "stream",
     "text": [
      "The longest track is SICKO MODE.\n"
     ]
    }
   ],
   "source": [
    "track_longest = spotify.loc[:,(\"track_name\",\"duration_ms\")].sort_values(by = [\"duration_ms\"], ascending=False, ignore_index=True).set_index(\"track_name\")\n",
    "print(f'The longest track is {track_longest.index[0]}.')"
   ]
  },
  {
   "cell_type": "markdown",
   "id": "033d049d",
   "metadata": {},
   "source": [
    "### Which track is the shortest?"
   ]
  },
  {
   "cell_type": "code",
   "execution_count": 45,
   "id": "7fddd369",
   "metadata": {},
   "outputs": [
    {
     "name": "stdout",
     "output_type": "stream",
     "text": [
      "The shortest track is Mood (feat. iann dior).\n"
     ]
    }
   ],
   "source": [
    "track_shortest = spotify.loc[:,(\"track_name\",\"duration_ms\")].sort_values(by = [\"duration_ms\"], ascending=True, ignore_index=True).set_index(\"track_name\")\n",
    "print(f'The shortest track is {track_shortest.index[0]}.')"
   ]
  },
  {
   "cell_type": "markdown",
   "id": "a3087742",
   "metadata": {},
   "source": [
    "### Which genre is the most popular?"
   ]
  },
  {
   "cell_type": "code",
   "execution_count": 46,
   "id": "c6576655",
   "metadata": {},
   "outputs": [],
   "source": [
    "def find_most_popular_genre():\n",
    "    genres = pd.DataFrame(spotify.loc[:,'genre'].value_counts())\n",
    "    popular_genres = genres[genres.loc[:,\"genre\"] == spotify.loc[:,'genre'].value_counts().max()]\n",
    "    print(f'The most popular genre has the highest number of tracks in the top 50. Such genre is:\\n')\n",
    "    [print(x) for x in popular_genres.index]\n",
    "    "
   ]
  },
  {
   "cell_type": "code",
   "execution_count": 47,
   "id": "d9a7889f",
   "metadata": {},
   "outputs": [
    {
     "name": "stdout",
     "output_type": "stream",
     "text": [
      "The most popular genre has the highest number of tracks in the top 50. Such genre is:\n",
      "\n",
      "Pop\n"
     ]
    }
   ],
   "source": [
    "find_most_popular_genre()\n"
   ]
  },
  {
   "cell_type": "markdown",
   "id": "c6a7916a",
   "metadata": {},
   "source": [
    "### Which genres have just one song on the top 50?"
   ]
  },
  {
   "cell_type": "code",
   "execution_count": 48,
   "id": "c26b3efb",
   "metadata": {},
   "outputs": [],
   "source": [
    "def find_genres_one_song():\n",
    "    genres = pd.DataFrame(spotify.loc[:,'genre'].value_counts())\n",
    "    genres_tracks = genres[genres.loc[:,\"genre\"] == 1]\n",
    "    print(f'These genres have just one song on the top 50:\\n')\n",
    "    [print(x) for x in genres_tracks.index]\n",
    "    "
   ]
  },
  {
   "cell_type": "code",
   "execution_count": 49,
   "id": "2296ee7d",
   "metadata": {},
   "outputs": [
    {
     "name": "stdout",
     "output_type": "stream",
     "text": [
      "These genres have just one song on the top 50:\n",
      "\n",
      "Nu-disco\n",
      "R&B/Hip-Hop alternative\n",
      "Pop/Soft Rock\n",
      "Pop rap\n",
      "Hip-Hop/Trap\n",
      "Dance-pop/Disco\n",
      "Disco-pop\n",
      "Dreampop/Hip-Hop/R&B\n",
      "Alternative/reggaeton/experimental\n",
      "Chamber pop\n"
     ]
    }
   ],
   "source": [
    "find_genres_one_song()\n"
   ]
  },
  {
   "cell_type": "markdown",
   "id": "4d9e7a7e",
   "metadata": {},
   "source": [
    "### How many genres in total are represented in the top 50?"
   ]
  },
  {
   "cell_type": "code",
   "execution_count": 50,
   "id": "ca15cd76",
   "metadata": {},
   "outputs": [
    {
     "name": "stdout",
     "output_type": "stream",
     "text": [
      "In total, 16 genres are represented in the top 50.\n"
     ]
    }
   ],
   "source": [
    "genres = spotify.loc[:,'genre'].value_counts().count()\n",
    "print(f'In total, {genres} genres are represented in the top 50.')\n"
   ]
  },
  {
   "cell_type": "markdown",
   "id": "ec67fc64",
   "metadata": {},
   "source": [
    "## Finding correlations between features"
   ]
  },
  {
   "cell_type": "markdown",
   "id": "959eedd3",
   "metadata": {},
   "source": [
    "The analysis of correlations between variables in Python could be performed with Pandas, Numpy or Scipy correlation tools (https://realpython.com/numpy-scipy-pandas-correlation-python/). Unlike Pandas and Numpy correlation tools, the Scipy correlation method has an option to calculate p-values indicating the statistical significance of correlation coeficients. However, as this project is aimed to apply Pandas and Numpy skills, we chose to use Pandas library for correlation analysis.\n"
   ]
  },
  {
   "cell_type": "markdown",
   "id": "21ec9a1c",
   "metadata": {},
   "source": [
    "Correlations could be calculated only for numerical variables. In order to construct a correlation matrix, we created a dataframe consisting of numerical variables. Also, we droped the numerical variable 'key' as it does not define any feature of tracks in the top 50. Then, we constructed a correlation matrix from the variables defining features and save it into a dataframe and designed functions to find out which features are strongly positively correlated, strongly negatively correlated and no-correlated. The outputs of the functions are statements about relationships features. Statements about relationships between the same features are printed twice."
   ]
  },
  {
   "cell_type": "code",
   "execution_count": 51,
   "id": "0ae6571f",
   "metadata": {
    "scrolled": true
   },
   "outputs": [
    {
     "data": {
      "text/html": [
       "<div>\n",
       "<style scoped>\n",
       "    .dataframe tbody tr th:only-of-type {\n",
       "        vertical-align: middle;\n",
       "    }\n",
       "\n",
       "    .dataframe tbody tr th {\n",
       "        vertical-align: top;\n",
       "    }\n",
       "\n",
       "    .dataframe thead th {\n",
       "        text-align: right;\n",
       "    }\n",
       "</style>\n",
       "<table border=\"1\" class=\"dataframe\">\n",
       "  <thead>\n",
       "    <tr style=\"text-align: right;\">\n",
       "      <th></th>\n",
       "      <th>energy</th>\n",
       "      <th>danceability</th>\n",
       "      <th>loudness</th>\n",
       "      <th>acousticness</th>\n",
       "      <th>speechiness</th>\n",
       "      <th>instrumentalness</th>\n",
       "      <th>liveness</th>\n",
       "      <th>valence</th>\n",
       "      <th>tempo</th>\n",
       "      <th>duration_ms</th>\n",
       "    </tr>\n",
       "  </thead>\n",
       "  <tbody>\n",
       "    <tr>\n",
       "      <th>energy</th>\n",
       "      <td>1.000000</td>\n",
       "      <td>0.152552</td>\n",
       "      <td>0.791640</td>\n",
       "      <td>-0.682479</td>\n",
       "      <td>0.074267</td>\n",
       "      <td>-0.385515</td>\n",
       "      <td>0.069487</td>\n",
       "      <td>0.393453</td>\n",
       "      <td>0.075191</td>\n",
       "      <td>0.081971</td>\n",
       "    </tr>\n",
       "    <tr>\n",
       "      <th>danceability</th>\n",
       "      <td>0.152552</td>\n",
       "      <td>1.000000</td>\n",
       "      <td>0.167147</td>\n",
       "      <td>-0.359135</td>\n",
       "      <td>0.226148</td>\n",
       "      <td>-0.017706</td>\n",
       "      <td>-0.006648</td>\n",
       "      <td>0.479953</td>\n",
       "      <td>0.168956</td>\n",
       "      <td>-0.033763</td>\n",
       "    </tr>\n",
       "    <tr>\n",
       "      <th>loudness</th>\n",
       "      <td>0.791640</td>\n",
       "      <td>0.167147</td>\n",
       "      <td>1.000000</td>\n",
       "      <td>-0.498695</td>\n",
       "      <td>-0.021693</td>\n",
       "      <td>-0.553735</td>\n",
       "      <td>-0.069939</td>\n",
       "      <td>0.406772</td>\n",
       "      <td>0.102097</td>\n",
       "      <td>0.064130</td>\n",
       "    </tr>\n",
       "    <tr>\n",
       "      <th>acousticness</th>\n",
       "      <td>-0.682479</td>\n",
       "      <td>-0.359135</td>\n",
       "      <td>-0.498695</td>\n",
       "      <td>1.000000</td>\n",
       "      <td>-0.135392</td>\n",
       "      <td>0.352184</td>\n",
       "      <td>-0.128384</td>\n",
       "      <td>-0.243192</td>\n",
       "      <td>-0.241119</td>\n",
       "      <td>-0.010988</td>\n",
       "    </tr>\n",
       "    <tr>\n",
       "      <th>speechiness</th>\n",
       "      <td>0.074267</td>\n",
       "      <td>0.226148</td>\n",
       "      <td>-0.021693</td>\n",
       "      <td>-0.135392</td>\n",
       "      <td>1.000000</td>\n",
       "      <td>0.028948</td>\n",
       "      <td>-0.142957</td>\n",
       "      <td>0.053867</td>\n",
       "      <td>0.215504</td>\n",
       "      <td>0.366976</td>\n",
       "    </tr>\n",
       "    <tr>\n",
       "      <th>instrumentalness</th>\n",
       "      <td>-0.385515</td>\n",
       "      <td>-0.017706</td>\n",
       "      <td>-0.553735</td>\n",
       "      <td>0.352184</td>\n",
       "      <td>0.028948</td>\n",
       "      <td>1.000000</td>\n",
       "      <td>-0.087034</td>\n",
       "      <td>-0.203283</td>\n",
       "      <td>0.018853</td>\n",
       "      <td>0.184709</td>\n",
       "    </tr>\n",
       "    <tr>\n",
       "      <th>liveness</th>\n",
       "      <td>0.069487</td>\n",
       "      <td>-0.006648</td>\n",
       "      <td>-0.069939</td>\n",
       "      <td>-0.128384</td>\n",
       "      <td>-0.142957</td>\n",
       "      <td>-0.087034</td>\n",
       "      <td>1.000000</td>\n",
       "      <td>-0.033366</td>\n",
       "      <td>0.025457</td>\n",
       "      <td>-0.090188</td>\n",
       "    </tr>\n",
       "    <tr>\n",
       "      <th>valence</th>\n",
       "      <td>0.393453</td>\n",
       "      <td>0.479953</td>\n",
       "      <td>0.406772</td>\n",
       "      <td>-0.243192</td>\n",
       "      <td>0.053867</td>\n",
       "      <td>-0.203283</td>\n",
       "      <td>-0.033366</td>\n",
       "      <td>1.000000</td>\n",
       "      <td>0.045089</td>\n",
       "      <td>-0.039794</td>\n",
       "    </tr>\n",
       "    <tr>\n",
       "      <th>tempo</th>\n",
       "      <td>0.075191</td>\n",
       "      <td>0.168956</td>\n",
       "      <td>0.102097</td>\n",
       "      <td>-0.241119</td>\n",
       "      <td>0.215504</td>\n",
       "      <td>0.018853</td>\n",
       "      <td>0.025457</td>\n",
       "      <td>0.045089</td>\n",
       "      <td>1.000000</td>\n",
       "      <td>0.130328</td>\n",
       "    </tr>\n",
       "    <tr>\n",
       "      <th>duration_ms</th>\n",
       "      <td>0.081971</td>\n",
       "      <td>-0.033763</td>\n",
       "      <td>0.064130</td>\n",
       "      <td>-0.010988</td>\n",
       "      <td>0.366976</td>\n",
       "      <td>0.184709</td>\n",
       "      <td>-0.090188</td>\n",
       "      <td>-0.039794</td>\n",
       "      <td>0.130328</td>\n",
       "      <td>1.000000</td>\n",
       "    </tr>\n",
       "  </tbody>\n",
       "</table>\n",
       "</div>"
      ],
      "text/plain": [
       "                    energy  danceability  loudness  acousticness  speechiness  \\\n",
       "energy            1.000000      0.152552  0.791640     -0.682479     0.074267   \n",
       "danceability      0.152552      1.000000  0.167147     -0.359135     0.226148   \n",
       "loudness          0.791640      0.167147  1.000000     -0.498695    -0.021693   \n",
       "acousticness     -0.682479     -0.359135 -0.498695      1.000000    -0.135392   \n",
       "speechiness       0.074267      0.226148 -0.021693     -0.135392     1.000000   \n",
       "instrumentalness -0.385515     -0.017706 -0.553735      0.352184     0.028948   \n",
       "liveness          0.069487     -0.006648 -0.069939     -0.128384    -0.142957   \n",
       "valence           0.393453      0.479953  0.406772     -0.243192     0.053867   \n",
       "tempo             0.075191      0.168956  0.102097     -0.241119     0.215504   \n",
       "duration_ms       0.081971     -0.033763  0.064130     -0.010988     0.366976   \n",
       "\n",
       "                  instrumentalness  liveness   valence     tempo  duration_ms  \n",
       "energy                   -0.385515  0.069487  0.393453  0.075191     0.081971  \n",
       "danceability             -0.017706 -0.006648  0.479953  0.168956    -0.033763  \n",
       "loudness                 -0.553735 -0.069939  0.406772  0.102097     0.064130  \n",
       "acousticness              0.352184 -0.128384 -0.243192 -0.241119    -0.010988  \n",
       "speechiness               0.028948 -0.142957  0.053867  0.215504     0.366976  \n",
       "instrumentalness          1.000000 -0.087034 -0.203283  0.018853     0.184709  \n",
       "liveness                 -0.087034  1.000000 -0.033366  0.025457    -0.090188  \n",
       "valence                  -0.203283 -0.033366  1.000000  0.045089    -0.039794  \n",
       "tempo                     0.018853  0.025457  0.045089  1.000000     0.130328  \n",
       "duration_ms               0.184709 -0.090188 -0.039794  0.130328     1.000000  "
      ]
     },
     "execution_count": 51,
     "metadata": {},
     "output_type": "execute_result"
    }
   ],
   "source": [
    "spotify_corr = spotify.iloc[:,4:15].drop(\"key\",axis=1)\n",
    "corr_matrix = pd.DataFrame(spotify_corr.corr())\n",
    "corr_matrix"
   ]
  },
  {
   "cell_type": "markdown",
   "id": "6f3fd6cf",
   "metadata": {},
   "source": [
    "### Which features are strongly positively correlated?"
   ]
  },
  {
   "cell_type": "markdown",
   "id": "bf9feb6c",
   "metadata": {},
   "source": [
    "According to the rule of thumb for the intepretation of values of correlation coeficients, he correlation between two variables is considered to be strong if the absolute value of r is greater than 0.75 (see https://www.statology.org/what-is-a-strong-correlation/). Thus, in order to find which features are strongly positively correlated, we looped over all values of the correlation matrix and selected values higher than 0,75 and excluded cofficients of same variables with values 1 as well.\n"
   ]
  },
  {
   "cell_type": "code",
   "execution_count": 3,
   "id": "766b1b20",
   "metadata": {},
   "outputs": [],
   "source": [
    "def find_pos_correlation(corr_matrix, coef):\n",
    "    for i in range(len(corr_matrix.iloc[0,:])):\n",
    "        for j in range(len(corr_matrix.iloc[:,0])):\n",
    "            if (corr_matrix.iloc[j,i] > coef) & (corr_matrix.iloc[j,i] != 1):\n",
    "                print(f'There is a strong positive correlation between features {corr_matrix.iloc[:,i].name} and {corr_matrix.iloc[j,:].name}. The value of the correlation coeficient is {round(corr_matrix.iloc[j,i],3)}.')"
   ]
  },
  {
   "cell_type": "code",
   "execution_count": 4,
   "id": "2c6226a7",
   "metadata": {},
   "outputs": [
    {
     "ename": "NameError",
     "evalue": "name 'corr_matrix' is not defined",
     "output_type": "error",
     "traceback": [
      "\u001b[0;31m---------------------------------------------------------------------------\u001b[0m",
      "\u001b[0;31mNameError\u001b[0m                                 Traceback (most recent call last)",
      "Cell \u001b[0;32mIn [4], line 1\u001b[0m\n\u001b[0;32m----> 1\u001b[0m find_pos_correlation(\u001b[43mcorr_matrix\u001b[49m, \u001b[38;5;241m0.75\u001b[39m)\n",
      "\u001b[0;31mNameError\u001b[0m: name 'corr_matrix' is not defined"
     ]
    }
   ],
   "source": [
    "find_pos_correlation(corr_matrix, 0.75)\n"
   ]
  },
  {
   "cell_type": "markdown",
   "id": "20a37886",
   "metadata": {},
   "source": [
    "It can be seen from the output above, that just two features are strongly positively correlated - that is, 'energy' and 'loudness' (coefficient value 0.792)."
   ]
  },
  {
   "cell_type": "markdown",
   "id": "5efe39f3",
   "metadata": {},
   "source": [
    "### Which features are strongly negatively correlated?"
   ]
  },
  {
   "cell_type": "markdown",
   "id": "1244f8fd",
   "metadata": {},
   "source": [
    "The role of thumb indicates that the strong negative correlation between two variable is indicated by the correlation coeficient with the values lower than -0.75."
   ]
  },
  {
   "cell_type": "code",
   "execution_count": 54,
   "id": "236d9f80",
   "metadata": {},
   "outputs": [],
   "source": [
    "def find_negative_correlation(data):\n",
    "    for i in range(len(corr_matrix.iloc[0,:])):\n",
    "        for j in range(len(corr_matrix.iloc[:,0])):\n",
    "            if (corr_matrix.iloc[j,i] < data) & (corr_matrix.iloc[j,i] != 1):\n",
    "                print(f'There is a strong negative correlation between features {corr_matrix.iloc[:,i].name} and {corr_matrix.iloc[j,:].name}. The value of the correlation coeficient is {round(corr_matrix.iloc[j,i], 3)}.')\n",
    "                      "
   ]
  },
  {
   "cell_type": "code",
   "execution_count": 55,
   "id": "5d6bfaf3",
   "metadata": {},
   "outputs": [],
   "source": [
    "find_negative_correlation(-0.75)\n"
   ]
  },
  {
   "cell_type": "markdown",
   "id": "ae1e22ff",
   "metadata": {},
   "source": [
    "It can be seen that there are no features in the Top 50 tracks dataframe which are strongly negatively correlated according the 'lower than 0.75' criteria. \n",
    "However, the function 'find_negative_correlation' provides opportunity to easily change limits of relationships' 'strongness'."
   ]
  },
  {
   "cell_type": "code",
   "execution_count": 56,
   "id": "1c911ed0",
   "metadata": {},
   "outputs": [
    {
     "name": "stdout",
     "output_type": "stream",
     "text": [
      "There is a strong negative correlation between features energy and acousticness. The value of the correlation coeficient is -0.682.\n",
      "There is a strong negative correlation between features loudness and instrumentalness. The value of the correlation coeficient is -0.554.\n",
      "There is a strong negative correlation between features acousticness and energy. The value of the correlation coeficient is -0.682.\n",
      "There is a strong negative correlation between features instrumentalness and loudness. The value of the correlation coeficient is -0.554.\n"
     ]
    }
   ],
   "source": [
    "find_negative_correlation(-0.5)"
   ]
  },
  {
   "cell_type": "markdown",
   "id": "254ee8e3",
   "metadata": {},
   "source": [
    "We can see that if we change strongness criteria to 'lower than -0.5', then we find strong negative relationship between such features as 'energy' and 'acousticness' (coefficient value -0.682) and 'loudness' and 'instrumentalness' (coefficient value -0.554). "
   ]
  },
  {
   "cell_type": "markdown",
   "id": "df132d64",
   "metadata": {},
   "source": [
    "### Which features are not correlated?"
   ]
  },
  {
   "cell_type": "markdown",
   "id": "196d85bc",
   "metadata": {},
   "source": [
    "We set the arbitrary criterion of non-correlation to \"higher than - 0.2\" and \"lower than 0.2\". According to this criterion, in total 34 relationships between features are not correlated (see below). "
   ]
  },
  {
   "cell_type": "code",
   "execution_count": 57,
   "id": "b0d83609",
   "metadata": {},
   "outputs": [],
   "source": [
    "def find_no_correlation():\n",
    "    count = 0\n",
    "    for i in range(len(corr_matrix.iloc[0,:])):\n",
    "        for j in range(len(corr_matrix.iloc[:,0])):\n",
    "            if (corr_matrix.iloc[j,i] > - 0.25) & (corr_matrix.iloc[j,i] < 0.25) & (corr_matrix.iloc[j,i] != 1):\n",
    "                count+=1\n",
    "                print(f'There is no correlation between features {corr_matrix.iloc[:,i].name} and {corr_matrix.iloc[j,:].name}. The value of the correlation coeficient is {round(corr_matrix.iloc[j,i],3)}.')\n",
    "    print(f'\\nThe total number of relationships where there are no correlations between features is {int(count/2)}.')"
   ]
  },
  {
   "cell_type": "code",
   "execution_count": 58,
   "id": "4d871e82",
   "metadata": {},
   "outputs": [
    {
     "name": "stdout",
     "output_type": "stream",
     "text": [
      "There is no correlation between features energy and danceability. The value of the correlation coeficient is 0.153.\n",
      "There is no correlation between features energy and speechiness. The value of the correlation coeficient is 0.074.\n",
      "There is no correlation between features energy and liveness. The value of the correlation coeficient is 0.069.\n",
      "There is no correlation between features energy and tempo. The value of the correlation coeficient is 0.075.\n",
      "There is no correlation between features energy and duration_ms. The value of the correlation coeficient is 0.082.\n",
      "There is no correlation between features danceability and energy. The value of the correlation coeficient is 0.153.\n",
      "There is no correlation between features danceability and loudness. The value of the correlation coeficient is 0.167.\n",
      "There is no correlation between features danceability and speechiness. The value of the correlation coeficient is 0.226.\n",
      "There is no correlation between features danceability and instrumentalness. The value of the correlation coeficient is -0.018.\n",
      "There is no correlation between features danceability and liveness. The value of the correlation coeficient is -0.007.\n",
      "There is no correlation between features danceability and tempo. The value of the correlation coeficient is 0.169.\n",
      "There is no correlation between features danceability and duration_ms. The value of the correlation coeficient is -0.034.\n",
      "There is no correlation between features loudness and danceability. The value of the correlation coeficient is 0.167.\n",
      "There is no correlation between features loudness and speechiness. The value of the correlation coeficient is -0.022.\n",
      "There is no correlation between features loudness and liveness. The value of the correlation coeficient is -0.07.\n",
      "There is no correlation between features loudness and tempo. The value of the correlation coeficient is 0.102.\n",
      "There is no correlation between features loudness and duration_ms. The value of the correlation coeficient is 0.064.\n",
      "There is no correlation between features acousticness and speechiness. The value of the correlation coeficient is -0.135.\n",
      "There is no correlation between features acousticness and liveness. The value of the correlation coeficient is -0.128.\n",
      "There is no correlation between features acousticness and valence. The value of the correlation coeficient is -0.243.\n",
      "There is no correlation between features acousticness and tempo. The value of the correlation coeficient is -0.241.\n",
      "There is no correlation between features acousticness and duration_ms. The value of the correlation coeficient is -0.011.\n",
      "There is no correlation between features speechiness and energy. The value of the correlation coeficient is 0.074.\n",
      "There is no correlation between features speechiness and danceability. The value of the correlation coeficient is 0.226.\n",
      "There is no correlation between features speechiness and loudness. The value of the correlation coeficient is -0.022.\n",
      "There is no correlation between features speechiness and acousticness. The value of the correlation coeficient is -0.135.\n",
      "There is no correlation between features speechiness and instrumentalness. The value of the correlation coeficient is 0.029.\n",
      "There is no correlation between features speechiness and liveness. The value of the correlation coeficient is -0.143.\n",
      "There is no correlation between features speechiness and valence. The value of the correlation coeficient is 0.054.\n",
      "There is no correlation between features speechiness and tempo. The value of the correlation coeficient is 0.216.\n",
      "There is no correlation between features instrumentalness and danceability. The value of the correlation coeficient is -0.018.\n",
      "There is no correlation between features instrumentalness and speechiness. The value of the correlation coeficient is 0.029.\n",
      "There is no correlation between features instrumentalness and liveness. The value of the correlation coeficient is -0.087.\n",
      "There is no correlation between features instrumentalness and valence. The value of the correlation coeficient is -0.203.\n",
      "There is no correlation between features instrumentalness and tempo. The value of the correlation coeficient is 0.019.\n",
      "There is no correlation between features instrumentalness and duration_ms. The value of the correlation coeficient is 0.185.\n",
      "There is no correlation between features liveness and energy. The value of the correlation coeficient is 0.069.\n",
      "There is no correlation between features liveness and danceability. The value of the correlation coeficient is -0.007.\n",
      "There is no correlation between features liveness and loudness. The value of the correlation coeficient is -0.07.\n",
      "There is no correlation between features liveness and acousticness. The value of the correlation coeficient is -0.128.\n",
      "There is no correlation between features liveness and speechiness. The value of the correlation coeficient is -0.143.\n",
      "There is no correlation between features liveness and instrumentalness. The value of the correlation coeficient is -0.087.\n",
      "There is no correlation between features liveness and valence. The value of the correlation coeficient is -0.033.\n",
      "There is no correlation between features liveness and tempo. The value of the correlation coeficient is 0.025.\n",
      "There is no correlation between features liveness and duration_ms. The value of the correlation coeficient is -0.09.\n",
      "There is no correlation between features valence and acousticness. The value of the correlation coeficient is -0.243.\n",
      "There is no correlation between features valence and speechiness. The value of the correlation coeficient is 0.054.\n",
      "There is no correlation between features valence and instrumentalness. The value of the correlation coeficient is -0.203.\n",
      "There is no correlation between features valence and liveness. The value of the correlation coeficient is -0.033.\n",
      "There is no correlation between features valence and tempo. The value of the correlation coeficient is 0.045.\n",
      "There is no correlation between features valence and duration_ms. The value of the correlation coeficient is -0.04.\n",
      "There is no correlation between features tempo and energy. The value of the correlation coeficient is 0.075.\n",
      "There is no correlation between features tempo and danceability. The value of the correlation coeficient is 0.169.\n",
      "There is no correlation between features tempo and loudness. The value of the correlation coeficient is 0.102.\n",
      "There is no correlation between features tempo and acousticness. The value of the correlation coeficient is -0.241.\n",
      "There is no correlation between features tempo and speechiness. The value of the correlation coeficient is 0.216.\n",
      "There is no correlation between features tempo and instrumentalness. The value of the correlation coeficient is 0.019.\n",
      "There is no correlation between features tempo and liveness. The value of the correlation coeficient is 0.025.\n",
      "There is no correlation between features tempo and valence. The value of the correlation coeficient is 0.045.\n",
      "There is no correlation between features tempo and duration_ms. The value of the correlation coeficient is 0.13.\n",
      "There is no correlation between features duration_ms and energy. The value of the correlation coeficient is 0.082.\n",
      "There is no correlation between features duration_ms and danceability. The value of the correlation coeficient is -0.034.\n",
      "There is no correlation between features duration_ms and loudness. The value of the correlation coeficient is 0.064.\n",
      "There is no correlation between features duration_ms and acousticness. The value of the correlation coeficient is -0.011.\n",
      "There is no correlation between features duration_ms and instrumentalness. The value of the correlation coeficient is 0.185.\n",
      "There is no correlation between features duration_ms and liveness. The value of the correlation coeficient is -0.09.\n",
      "There is no correlation between features duration_ms and valence. The value of the correlation coeficient is -0.04.\n",
      "There is no correlation between features duration_ms and tempo. The value of the correlation coeficient is 0.13.\n",
      "\n",
      "The total number of relationships where there are no correlations between features is 34.\n"
     ]
    }
   ],
   "source": [
    "find_no_correlation()"
   ]
  },
  {
   "cell_type": "markdown",
   "id": "f40c342c",
   "metadata": {},
   "source": [
    "## Comparing variables between groups"
   ]
  },
  {
   "cell_type": "markdown",
   "id": "d7812a60",
   "metadata": {},
   "source": [
    "The following analysis answers questions about comparisons of different features between various genres of music. In order to answer these questions, we applied Pandas' groupby function and calcualted means of variables of features in different genre groups. "
   ]
  },
  {
   "cell_type": "markdown",
   "id": "e5c6ca49",
   "metadata": {},
   "source": [
    "### How does the danceability score compare between Pop, Hip-Hop/Rap, Dance/Electronic, and Alternative/Indie genres?"
   ]
  },
  {
   "cell_type": "markdown",
   "id": "b83bc8d3",
   "metadata": {},
   "source": [
    "The table below indicates that Hip-Hop/Rap and Dance/Electronic genres have higher danceability score than Pop and Alternative/Indie genres. These genres are more danceable."
   ]
  },
  {
   "cell_type": "code",
   "execution_count": 100,
   "id": "14dd7d7e",
   "metadata": {},
   "outputs": [
    {
     "name": "stdout",
     "output_type": "stream",
     "text": [
      "                  danceability          \n",
      "                          mean       std\n",
      "genre                                   \n",
      "Pop                   0.677571  0.109853\n",
      "Hip-Hop/Rap           0.765538  0.085470\n",
      "Dance/Electronic      0.755000  0.094744\n",
      "Alternative/Indie     0.661750  0.211107\n"
     ]
    }
   ],
   "source": [
    "danceability_genre = pd.DataFrame(spotify.loc[:,(\"danceability\",\"genre\")].groupby(\"genre\").describe())\n",
    "print(f'{danceability_genre.loc[[\"Pop\", \"Hip-Hop/Rap\", \"Dance/Electronic\", \"Alternative/Indie\"],[(\"danceability\",\"mean\"),(\"danceability\",\"std\")]]}')"
   ]
  },
  {
   "cell_type": "code",
   "execution_count": 71,
   "id": "e8dd412f",
   "metadata": {},
   "outputs": [
    {
     "data": {
      "text/html": [
       "<div>\n",
       "<style scoped>\n",
       "    .dataframe tbody tr th:only-of-type {\n",
       "        vertical-align: middle;\n",
       "    }\n",
       "\n",
       "    .dataframe tbody tr th {\n",
       "        vertical-align: top;\n",
       "    }\n",
       "\n",
       "    .dataframe thead tr th {\n",
       "        text-align: left;\n",
       "    }\n",
       "\n",
       "    .dataframe thead tr:last-of-type th {\n",
       "        text-align: right;\n",
       "    }\n",
       "</style>\n",
       "<table border=\"1\" class=\"dataframe\">\n",
       "  <thead>\n",
       "    <tr>\n",
       "      <th></th>\n",
       "      <th colspan=\"8\" halign=\"left\">loudness</th>\n",
       "    </tr>\n",
       "    <tr>\n",
       "      <th></th>\n",
       "      <th>count</th>\n",
       "      <th>mean</th>\n",
       "      <th>std</th>\n",
       "      <th>min</th>\n",
       "      <th>25%</th>\n",
       "      <th>50%</th>\n",
       "      <th>75%</th>\n",
       "      <th>max</th>\n",
       "    </tr>\n",
       "    <tr>\n",
       "      <th>genre</th>\n",
       "      <th></th>\n",
       "      <th></th>\n",
       "      <th></th>\n",
       "      <th></th>\n",
       "      <th></th>\n",
       "      <th></th>\n",
       "      <th></th>\n",
       "      <th></th>\n",
       "    </tr>\n",
       "  </thead>\n",
       "  <tbody>\n",
       "    <tr>\n",
       "      <th>Electro-pop</th>\n",
       "      <td>2.0</td>\n",
       "      <td>-8.898500</td>\n",
       "      <td>2.922472</td>\n",
       "      <td>-10.965</td>\n",
       "      <td>-9.93175</td>\n",
       "      <td>-8.8985</td>\n",
       "      <td>-7.86525</td>\n",
       "      <td>-6.832</td>\n",
       "    </tr>\n",
       "    <tr>\n",
       "      <th>Alternative/Indie</th>\n",
       "      <td>4.0</td>\n",
       "      <td>-5.421000</td>\n",
       "      <td>0.774502</td>\n",
       "      <td>-6.401</td>\n",
       "      <td>-5.85950</td>\n",
       "      <td>-5.2685</td>\n",
       "      <td>-4.83000</td>\n",
       "      <td>-4.746</td>\n",
       "    </tr>\n",
       "    <tr>\n",
       "      <th>Alternative/reggaeton/experimental</th>\n",
       "      <td>1.0</td>\n",
       "      <td>-4.074000</td>\n",
       "      <td>NaN</td>\n",
       "      <td>-4.074</td>\n",
       "      <td>-4.07400</td>\n",
       "      <td>-4.0740</td>\n",
       "      <td>-4.07400</td>\n",
       "      <td>-4.074</td>\n",
       "    </tr>\n",
       "    <tr>\n",
       "      <th>Chamber pop</th>\n",
       "      <td>1.0</td>\n",
       "      <td>-10.109000</td>\n",
       "      <td>NaN</td>\n",
       "      <td>-10.109</td>\n",
       "      <td>-10.10900</td>\n",
       "      <td>-10.1090</td>\n",
       "      <td>-10.10900</td>\n",
       "      <td>-10.109</td>\n",
       "    </tr>\n",
       "    <tr>\n",
       "      <th>Dance-pop/Disco</th>\n",
       "      <td>1.0</td>\n",
       "      <td>-3.434000</td>\n",
       "      <td>NaN</td>\n",
       "      <td>-3.434</td>\n",
       "      <td>-3.43400</td>\n",
       "      <td>-3.4340</td>\n",
       "      <td>-3.43400</td>\n",
       "      <td>-3.434</td>\n",
       "    </tr>\n",
       "    <tr>\n",
       "      <th>Dance/Electronic</th>\n",
       "      <td>5.0</td>\n",
       "      <td>-5.338000</td>\n",
       "      <td>1.479047</td>\n",
       "      <td>-7.567</td>\n",
       "      <td>-5.65200</td>\n",
       "      <td>-5.4570</td>\n",
       "      <td>-4.25800</td>\n",
       "      <td>-3.756</td>\n",
       "    </tr>\n",
       "    <tr>\n",
       "      <th>Disco-pop</th>\n",
       "      <td>1.0</td>\n",
       "      <td>-4.410000</td>\n",
       "      <td>NaN</td>\n",
       "      <td>-4.410</td>\n",
       "      <td>-4.41000</td>\n",
       "      <td>-4.4100</td>\n",
       "      <td>-4.41000</td>\n",
       "      <td>-4.410</td>\n",
       "    </tr>\n",
       "    <tr>\n",
       "      <th>Dreampop/Hip-Hop/R&amp;B</th>\n",
       "      <td>1.0</td>\n",
       "      <td>-4.368000</td>\n",
       "      <td>NaN</td>\n",
       "      <td>-4.368</td>\n",
       "      <td>-4.36800</td>\n",
       "      <td>-4.3680</td>\n",
       "      <td>-4.36800</td>\n",
       "      <td>-4.368</td>\n",
       "    </tr>\n",
       "    <tr>\n",
       "      <th>Hip-Hop/Rap</th>\n",
       "      <td>13.0</td>\n",
       "      <td>-6.917846</td>\n",
       "      <td>1.891808</td>\n",
       "      <td>-8.820</td>\n",
       "      <td>-8.52000</td>\n",
       "      <td>-7.6480</td>\n",
       "      <td>-5.61600</td>\n",
       "      <td>-3.370</td>\n",
       "    </tr>\n",
       "    <tr>\n",
       "      <th>Hip-Hop/Trap</th>\n",
       "      <td>1.0</td>\n",
       "      <td>-7.509000</td>\n",
       "      <td>NaN</td>\n",
       "      <td>-7.509</td>\n",
       "      <td>-7.50900</td>\n",
       "      <td>-7.5090</td>\n",
       "      <td>-7.50900</td>\n",
       "      <td>-7.509</td>\n",
       "    </tr>\n",
       "    <tr>\n",
       "      <th>Nu-disco</th>\n",
       "      <td>1.0</td>\n",
       "      <td>-4.521000</td>\n",
       "      <td>NaN</td>\n",
       "      <td>-4.521</td>\n",
       "      <td>-4.52100</td>\n",
       "      <td>-4.5210</td>\n",
       "      <td>-4.52100</td>\n",
       "      <td>-4.521</td>\n",
       "    </tr>\n",
       "    <tr>\n",
       "      <th>Pop</th>\n",
       "      <td>14.0</td>\n",
       "      <td>-6.460357</td>\n",
       "      <td>3.014281</td>\n",
       "      <td>-14.454</td>\n",
       "      <td>-7.17875</td>\n",
       "      <td>-6.6445</td>\n",
       "      <td>-3.87525</td>\n",
       "      <td>-3.280</td>\n",
       "    </tr>\n",
       "    <tr>\n",
       "      <th>Pop rap</th>\n",
       "      <td>1.0</td>\n",
       "      <td>-3.558000</td>\n",
       "      <td>NaN</td>\n",
       "      <td>-3.558</td>\n",
       "      <td>-3.55800</td>\n",
       "      <td>-3.5580</td>\n",
       "      <td>-3.55800</td>\n",
       "      <td>-3.558</td>\n",
       "    </tr>\n",
       "    <tr>\n",
       "      <th>Pop/Soft Rock</th>\n",
       "      <td>1.0</td>\n",
       "      <td>-3.497000</td>\n",
       "      <td>NaN</td>\n",
       "      <td>-3.497</td>\n",
       "      <td>-3.49700</td>\n",
       "      <td>-3.4970</td>\n",
       "      <td>-3.49700</td>\n",
       "      <td>-3.497</td>\n",
       "    </tr>\n",
       "    <tr>\n",
       "      <th>R&amp;B/Hip-Hop alternative</th>\n",
       "      <td>1.0</td>\n",
       "      <td>-8.756000</td>\n",
       "      <td>NaN</td>\n",
       "      <td>-8.756</td>\n",
       "      <td>-8.75600</td>\n",
       "      <td>-8.7560</td>\n",
       "      <td>-8.75600</td>\n",
       "      <td>-8.756</td>\n",
       "    </tr>\n",
       "    <tr>\n",
       "      <th>R&amp;B/Soul</th>\n",
       "      <td>2.0</td>\n",
       "      <td>-5.255500</td>\n",
       "      <td>0.959544</td>\n",
       "      <td>-5.934</td>\n",
       "      <td>-5.59475</td>\n",
       "      <td>-5.2555</td>\n",
       "      <td>-4.91625</td>\n",
       "      <td>-4.577</td>\n",
       "    </tr>\n",
       "  </tbody>\n",
       "</table>\n",
       "</div>"
      ],
      "text/plain": [
       "                                   loudness                               \\\n",
       "                                      count       mean       std     min   \n",
       "genre                                                                      \n",
       " Electro-pop                            2.0  -8.898500  2.922472 -10.965   \n",
       "Alternative/Indie                       4.0  -5.421000  0.774502  -6.401   \n",
       "Alternative/reggaeton/experimental      1.0  -4.074000       NaN  -4.074   \n",
       "Chamber pop                             1.0 -10.109000       NaN -10.109   \n",
       "Dance-pop/Disco                         1.0  -3.434000       NaN  -3.434   \n",
       "Dance/Electronic                        5.0  -5.338000  1.479047  -7.567   \n",
       "Disco-pop                               1.0  -4.410000       NaN  -4.410   \n",
       "Dreampop/Hip-Hop/R&B                    1.0  -4.368000       NaN  -4.368   \n",
       "Hip-Hop/Rap                            13.0  -6.917846  1.891808  -8.820   \n",
       "Hip-Hop/Trap                            1.0  -7.509000       NaN  -7.509   \n",
       "Nu-disco                                1.0  -4.521000       NaN  -4.521   \n",
       "Pop                                    14.0  -6.460357  3.014281 -14.454   \n",
       "Pop rap                                 1.0  -3.558000       NaN  -3.558   \n",
       "Pop/Soft Rock                           1.0  -3.497000       NaN  -3.497   \n",
       "R&B/Hip-Hop alternative                 1.0  -8.756000       NaN  -8.756   \n",
       "R&B/Soul                                2.0  -5.255500  0.959544  -5.934   \n",
       "\n",
       "                                                                         \n",
       "                                         25%      50%       75%     max  \n",
       "genre                                                                    \n",
       " Electro-pop                        -9.93175  -8.8985  -7.86525  -6.832  \n",
       "Alternative/Indie                   -5.85950  -5.2685  -4.83000  -4.746  \n",
       "Alternative/reggaeton/experimental  -4.07400  -4.0740  -4.07400  -4.074  \n",
       "Chamber pop                        -10.10900 -10.1090 -10.10900 -10.109  \n",
       "Dance-pop/Disco                     -3.43400  -3.4340  -3.43400  -3.434  \n",
       "Dance/Electronic                    -5.65200  -5.4570  -4.25800  -3.756  \n",
       "Disco-pop                           -4.41000  -4.4100  -4.41000  -4.410  \n",
       "Dreampop/Hip-Hop/R&B                -4.36800  -4.3680  -4.36800  -4.368  \n",
       "Hip-Hop/Rap                         -8.52000  -7.6480  -5.61600  -3.370  \n",
       "Hip-Hop/Trap                        -7.50900  -7.5090  -7.50900  -7.509  \n",
       "Nu-disco                            -4.52100  -4.5210  -4.52100  -4.521  \n",
       "Pop                                 -7.17875  -6.6445  -3.87525  -3.280  \n",
       "Pop rap                             -3.55800  -3.5580  -3.55800  -3.558  \n",
       "Pop/Soft Rock                       -3.49700  -3.4970  -3.49700  -3.497  \n",
       "R&B/Hip-Hop alternative             -8.75600  -8.7560  -8.75600  -8.756  \n",
       "R&B/Soul                            -5.59475  -5.2555  -4.91625  -4.577  "
      ]
     },
     "execution_count": 71,
     "metadata": {},
     "output_type": "execute_result"
    }
   ],
   "source": [
    "spotify.loc[:,(\"loudness\",\"genre\")].groupby(\"genre\").describe()"
   ]
  },
  {
   "cell_type": "markdown",
   "id": "50933363",
   "metadata": {},
   "source": [
    "### How does the loudness score compare between Pop, Hip-Hop/Rap, Dance/Electronic, and Alternative/Indie genres?"
   ]
  },
  {
   "cell_type": "markdown",
   "id": "740cbe40",
   "metadata": {},
   "source": [
    "The table below indicates that Alternative/Indie (mean value -5.421) and Dance/Electronic (mean value -5.338) genres have higher loudness score than Pop (mean value -6.46) and Hip-Hop/Rap (mean value -6.917) genres."
   ]
  },
  {
   "cell_type": "code",
   "execution_count": 101,
   "id": "927a8d04",
   "metadata": {},
   "outputs": [
    {
     "name": "stdout",
     "output_type": "stream",
     "text": [
      "                   loudness          \n",
      "                       mean       std\n",
      "genre                                \n",
      "Pop               -6.460357  3.014281\n",
      "Hip-Hop/Rap       -6.917846  1.891808\n",
      "Dance/Electronic  -5.338000  1.479047\n",
      "Alternative/Indie -5.421000  0.774502\n"
     ]
    }
   ],
   "source": [
    "loudness_genre = pd.DataFrame(spotify.loc[:,(\"loudness\",\"genre\")].groupby(\"genre\").describe())\n",
    "print(f'{loudness_genre.loc[[\"Pop\", \"Hip-Hop/Rap\", \"Dance/Electronic\", \"Alternative/Indie\"],[(\"loudness\",\"mean\"),(\"loudness\",\"std\")]]}')"
   ]
  },
  {
   "cell_type": "markdown",
   "id": "bf46d977",
   "metadata": {},
   "source": [
    "### How does the acousticness score compare between Pop, Hip-Hop/Rap, Dance/Electronic, and Alternative/Indie genres?"
   ]
  },
  {
   "cell_type": "markdown",
   "id": "cef56318",
   "metadata": {},
   "source": [
    "The table below indicates that Alternative/Indie genre  has the highest acousticness score(with mean value 0,583) comparing with other genres, followed by the Pop genre (with mean value 0,324). Hip-Ho/Rap (mean value 0,189) and Dance/Electronic (mean value 0,099) genres are the least acoustic."
   ]
  },
  {
   "cell_type": "code",
   "execution_count": 104,
   "id": "de589da2",
   "metadata": {},
   "outputs": [
    {
     "name": "stdout",
     "output_type": "stream",
     "text": [
      "                  acousticness          \n",
      "                          mean       std\n",
      "genre                                   \n",
      "Pop                   0.323843  0.318142\n",
      "Hip-Hop/Rap           0.188741  0.186396\n",
      "Dance/Electronic      0.099440  0.095828\n",
      "Alternative/Indie     0.583500  0.204086\n"
     ]
    }
   ],
   "source": [
    "acousticness_genre = pd.DataFrame(spotify.loc[:,(\"acousticness\",\"genre\")].groupby(\"genre\").describe())\n",
    "print(f'{acousticness_genre.loc[[\"Pop\", \"Hip-Hop/Rap\", \"Dance/Electronic\", \"Alternative/Indie\"],[(\"acousticness\",\"mean\"),(\"acousticness\",\"std\")]]}')\n"
   ]
  },
  {
   "cell_type": "markdown",
   "id": "0b9fde90",
   "metadata": {},
   "source": [
    "## Conclusions\n"
   ]
  },
  {
   "cell_type": "markdown",
   "id": "360b0116",
   "metadata": {},
   "source": [
    "The basic exploratory data analysis of the Top 50 Spotify tracks revealed various characteristics of the most popular Spotify tracks - that the most popular artists are Billie Eilish, Dua Lipa, and Travis Scott; the most popular genre is pop; that energy is correlated with loudness; that alternative/ indie music is the most accoustic while hip-top/ rap is the most loudly and danceable (together with dance/ electronic); etc. The analysis could be improved by applying tests of statistical significance - calculating p-values of correlation coeficients and conducting non-parametric Kruscall Wallis tests for comparison of differences between groups of observations. But for such an analysis the Python library Scipy should be used. Also, data visualisations with Matplotlib and Seaborn libraries could be preformed."
   ]
  },
  {
   "cell_type": "markdown",
   "id": "af717e01",
   "metadata": {},
   "source": [
    "## Resources:\n",
    "\n",
    "1. Stojiljković M. NumPy, SciPy, and Pandas: Correlation With Python, Real Python, https://realpython.com/numpy-scipy-pandas-correlation-python/\n",
    "2. YAĞCI H.E. Detecting and Handling Outliers with Pandas, Medium, January 15 2021, https://hersanyagci.medium.com/detecting-and-handling-outliers-with-pandas-7adbfcd5cad8\n",
    "3. What is Considered to Be a “Strong” Correlation?, January 22 2020, https://www.statology.org/what-is-a-strong-correlation/ "
   ]
  }
 ],
 "metadata": {
  "kernelspec": {
   "display_name": "Python 3 (ipykernel)",
   "language": "python",
   "name": "python3"
  },
  "language_info": {
   "codemirror_mode": {
    "name": "ipython",
    "version": 3
   },
   "file_extension": ".py",
   "mimetype": "text/x-python",
   "name": "python",
   "nbconvert_exporter": "python",
   "pygments_lexer": "ipython3",
   "version": "3.10.8"
  }
 },
 "nbformat": 4,
 "nbformat_minor": 5
}
